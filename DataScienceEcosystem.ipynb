{
 "cells": [
  {
   "cell_type": "markdown",
   "id": "477af208-03f1-4901-9e3f-fb2e32860cea",
   "metadata": {},
   "source": [
    "# Data Science Tools And Ecosystem"
   ]
  },
  {
   "cell_type": "markdown",
   "id": "a6efd040-11d3-40ea-a805-073c417186ca",
   "metadata": {},
   "source": [
    "In this notebook, Data Science Tools and Ecosystem are summarized."
   ]
  },
  {
   "cell_type": "markdown",
   "id": "7e13b24f-771e-4dbd-97c1-a379b7bd51ba",
   "metadata": {},
   "source": [
    "Some of the popular languages that Data Scientists use are;\n",
    "1. Python\n",
    "2. SQL\n",
    "3. C++\n",
    "4. Java\n",
    "5. R"
   ]
  },
  {
   "cell_type": "markdown",
   "id": "9b058b77-0936-4c4d-9190-2be58ac34546",
   "metadata": {},
   "source": [
    "Some of the commonly used libraries used by Data Scientist include:\n",
    "1. TensorFlow\n",
    "2. NumPy\n",
    "3. SciPy\n",
    "4. Pandas\n",
    "5. Keras\n",
    "6. Scikit-learn\n",
    "7. Matplotlib\n",
    "8. PyTorch\n",
    "    "
   ]
  },
  {
   "cell_type": "markdown",
   "id": "fc816130-1118-4bc6-a5f4-7237ab9d8fc3",
   "metadata": {},
   "source": [
    "|Data Science Tools|\n",
    "|------|\n",
    "|SAS|\n",
    "|Apache Hadoop|\n",
    "|TensorFlow|"
   ]
  },
  {
   "cell_type": "markdown",
   "id": "ab65afb4-3c43-40d9-86b7-d4cea037d956",
   "metadata": {},
   "source": [
    "Below are a few examples of evaluating arithmetic expressions in Python.\n"
   ]
  },
  {
   "cell_type": "code",
   "execution_count": 6,
   "id": "e5611fc5-5a9f-49bc-9518-0dfbec543247",
   "metadata": {
    "tags": []
   },
   "outputs": [
    {
     "data": {
      "text/plain": [
       "17"
      ]
     },
     "execution_count": 6,
     "metadata": {},
     "output_type": "execute_result"
    }
   ],
   "source": [
    "#This a simple arithmetic expression to mutiply then add integers\n",
    "(3*4)+5"
   ]
  },
  {
   "cell_type": "code",
   "execution_count": 5,
   "id": "0b9e4af5-ab93-4bd2-9512-0dd0f3dac64a",
   "metadata": {
    "tags": []
   },
   "outputs": [
    {
     "data": {
      "text/plain": [
       "3.3333333333333335"
      ]
     },
     "execution_count": 5,
     "metadata": {},
     "output_type": "execute_result"
    }
   ],
   "source": [
    "#This will convert 200 minutes to hours by diving by 60\n",
    "200/60"
   ]
  },
  {
   "cell_type": "markdown",
   "id": "61c893b7-e123-437d-816e-7bbfeb203dea",
   "metadata": {},
   "source": [
    "__Objective__\n",
    "* List popular languages for Data Science\n",
    "* List popular libraries for Data Science\n",
    "* List of well known Data Science Tools\n",
    "* How to provide comment in the cell"
   ]
  },
  {
   "cell_type": "markdown",
   "id": "797f0f8a-0fad-4a91-9750-25dbac2fb920",
   "metadata": {},
   "source": [
    "## Author\n",
    "Aman Kumar Vishwakarma"
   ]
  }
 ],
 "metadata": {
  "kernelspec": {
   "display_name": "Python",
   "language": "python",
   "name": "conda-env-python-py"
  },
  "language_info": {
   "codemirror_mode": {
    "name": "ipython",
    "version": 3
   },
   "file_extension": ".py",
   "mimetype": "text/x-python",
   "name": "python",
   "nbconvert_exporter": "python",
   "pygments_lexer": "ipython3",
   "version": "3.7.12"
  }
 },
 "nbformat": 4,
 "nbformat_minor": 5
}
